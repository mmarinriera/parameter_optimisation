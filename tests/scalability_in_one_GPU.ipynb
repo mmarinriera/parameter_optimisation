{
 "cells": [
  {
   "cell_type": "code",
   "execution_count": 36,
   "metadata": {},
   "outputs": [],
   "source": [
    "import matplotlib\n",
    "import numpy as np\n",
    "import matplotlib.pyplot as plt\n",
    "%matplotlib inline\n",
    "\n",
    "from PyGMO.problem import base\n",
    "from PyGMO import *\n",
    "import subprocess\n",
    "import random\n",
    "from time import sleep\n",
    "\n",
    "executable = \"./sphere_intercalation_PD.e\"\n",
    "target_file = \"PD_targets/target_limb_like_0.75_0.0_1.0_0.0_0.5.Tf_0.vtk\"\n",
    "run_identifier = \"lolll\"\n",
    "\n",
    "class sphere_intercalation(base):\n",
    "    \"\"\"\n",
    "    Basic sphere of tissue with cell intercalation that parametrises the cell-\n",
    "    level orientations for the intercalation process\n",
    "    \"\"\"\n",
    "\n",
    "    _sphere_intercalation__dim = 5\n",
    "\n",
    "    def __init__(self, dim = 5, own_arg = 0):\n",
    "        # First we call the constructor of the base class telling PyGMO\n",
    "        # what kind of problem to expect ('dim' dimensions, 1 objective, 0 contraints etc.)\n",
    "        super(sphere_intercalation,self).__init__(dim)\n",
    "\n",
    "        # We set the problem bounds (in this case equal for all components)\n",
    "        self.set_bounds(0, 1)\n",
    "\n",
    "        self.own_id = own_arg\n",
    "\n",
    "    # Reimplement the virtual method that defines the objective function.\n",
    "    def _objfun_impl(self, x):\n",
    "\n",
    "        # print(\"start\", self.own_id)\n",
    "        model_call = [executable, target_file, \"dummy\", \"false\"] + [str(i) for i in x]\n",
    "        result = subprocess.run(model_call, stdout=subprocess.PIPE)\n",
    "\n",
    "        f = float(result.stdout.decode('utf-8'))\n",
    "        # print(\"end\", self.own_id)\n",
    "\n",
    "        # Note that we return a tuple with one element only. In PyGMO the objective functions\n",
    "        # return tuples so that multi-objective optimization is also possible.\n",
    "        return (f, )\n",
    "\n",
    "\n",
    "    # Finally we also reimplement a virtual method that adds some output to the __repr__ method\n",
    "    def human_readable_extra(self):\n",
    "        return \"\\n\\t Problem dimension: \" + str(self.__dim)\n"
   ]
  },
  {
   "cell_type": "code",
   "execution_count": 17,
   "metadata": {},
   "outputs": [],
   "source": []
  },
  {
   "cell_type": "code",
   "execution_count": 39,
   "metadata": {},
   "outputs": [
    {
     "name": "stdout",
     "output_type": "stream",
     "text": [
      "scale 1 elapsed time 8.773287773132324\n",
      "scale 3 elapsed time 19.5307559967041\n",
      "scale 5 elapsed time 30.738726139068604\n",
      "scale 7 elapsed time 42.21100926399231\n",
      "scale 9 elapsed time 51.90342617034912\n",
      "scale 11 elapsed time 62.5924973487854\n",
      "scale 13 elapsed time 74.4112982749939\n",
      "scale 15 elapsed time 87.08477210998535\n",
      "scale 17 elapsed time 107.26725196838379\n",
      "Exception caught during evolution:\n",
      "Exception caught during evolution:could not convert string to float: \n",
      "Exception caught during evolution:\n",
      "could not convert string to float: \n",
      "could not convert string to float: \n",
      "\n",
      "Exception caught during evolution:Exception caught during evolution:\n",
      "\n",
      "could not convert string to float: \n",
      "could not convert string to float: \n",
      "Exception caught during evolution:\n",
      "Exception caught during evolution:\n",
      "could not convert string to float: Exception caught during evolution:\n",
      "\n",
      "could not convert string to float: Exception caught during evolution:could not convert string to float: \n",
      "Exception caught during evolution:Exception caught during evolution:\n",
      "\n",
      "\n",
      "\n",
      "could not convert string to float: could not convert string to float: could not convert string to float: \n",
      "\n",
      "\n",
      "Exception caught during evolution:\n",
      "could not convert string to float: Exception caught during evolution:Exception caught during evolution:\n",
      "\n",
      "\n",
      "Exception caught during evolution:\n",
      "could not convert string to float: could not convert string to float: could not convert string to float: \n",
      "\n",
      "\n",
      "scale 19 elapsed time 28.058186769485474\n"
     ]
    }
   ],
   "source": [
    "import time\n",
    "population_size = 6\n",
    "n_generations_per_iter = 1\n",
    "n_iter = 50\n",
    "algo = algorithm.de(gen = n_generations_per_iter)\n",
    "x = []\n",
    "y = []\n",
    "\n",
    "for k in range (1,20,2):\n",
    "    archi = archipelago(topology=topology.unconnected())\n",
    "    #print(\"scale\", k)\n",
    "    for i in range (k):\n",
    "        archi.push_back(island(algo, sphere_intercalation(dim = 5, own_arg = i), 6))\n",
    "\n",
    "    starting_time = time.time()\n",
    "    archi.evolve(1)\n",
    "    archi.join()\n",
    "    elapsed_time = time.time() - starting_time\n",
    "    print(\"scale\", k, \"elapsed time\", elapsed_time)\n",
    "    x.append(k)\n",
    "    y.append(elapsed_time/k)\n",
    "        "
   ]
  },
  {
   "cell_type": "code",
   "execution_count": 41,
   "metadata": {},
   "outputs": [
    {
     "data": {
      "image/png": "[encoded data removed]",
      "text/plain": [
       "<matplotlib.figure.Figure at 0x7f95972b42b0>"
      ]
     },
     "metadata": {},
     "output_type": "display_data"
    }
   ],
   "source": [
    "plt.plot(x,y)\n",
    "plt.title('performance vs scale')\n",
    "plt.show()"
   ]
  },
  {
   "cell_type": "code",
   "execution_count": null,
   "metadata": {},
   "outputs": [],
   "source": []
  },
  {
   "cell_type": "code",
   "execution_count": null,
   "metadata": {},
   "outputs": [],
   "source": []
  }
 ],
 "metadata": {
  "kernelspec": {
   "display_name": "Python 3",
   "language": "python",
   "name": "python3"
  },
  "language_info": {
   "codemirror_mode": {
    "name": "ipython",
    "version": 3
   },
   "file_extension": ".py",
   "mimetype": "text/x-python",
   "name": "python",
   "nbconvert_exporter": "python",
   "pygments_lexer": "ipython3",
   "version": "3.6.1"
  }
 },
 "nbformat": 4,
 "nbformat_minor": 2
}
